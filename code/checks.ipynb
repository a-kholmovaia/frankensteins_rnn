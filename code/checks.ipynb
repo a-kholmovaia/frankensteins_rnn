{
 "cells": [
  {
   "cell_type": "code",
   "execution_count": 95,
   "id": "b7ebe2d6",
   "metadata": {},
   "outputs": [],
   "source": [
    "import torch \n",
    "from torch.utils.data import DataLoader\n",
    "import requests\n",
    "import spacy\n",
    "import re\n",
    "from torchtext.vocab import build_vocab_from_iterator\n",
    "import torchtext.transforms as T\n",
    "import torchdata.datapipes as dp\n",
    "import urllib.request\n",
    "from bs4 import BeautifulSoup"
   ]
  },
  {
   "cell_type": "code",
   "execution_count": 441,
   "id": "b35c9d1c",
   "metadata": {},
   "outputs": [],
   "source": [
    "filename = 'val.txt'\n",
    "file=open(filename)\n",
    "lines = file.readlines()\n",
    "lines[0]\n",
    "file.close()"
   ]
  },
  {
   "cell_type": "code",
   "execution_count": 442,
   "id": "f6b76901",
   "metadata": {},
   "outputs": [
    {
     "data": {
      "text/plain": [
       "'He sprang from the cabin-window as he said this, upon the ice raft which lay close to the vessel. He was soon borne away by the waves and lost in darkness and distance. '"
      ]
     },
     "execution_count": 442,
     "metadata": {},
     "output_type": "execute_result"
    }
   ],
   "source": [
    "lines[-1]"
   ]
  },
  {
   "cell_type": "code",
   "execution_count": 443,
   "id": "80cc4a9d",
   "metadata": {},
   "outputs": [],
   "source": [
    "output = []\n",
    "for line in lines:\n",
    "    if line[:7]=='Chapter' or line=='\\n':\n",
    "        continue\n",
    "    else:\n",
    "        output.append(line.lower())\n",
    "        "
   ]
  },
  {
   "cell_type": "code",
   "execution_count": 444,
   "id": "a18b5b1d",
   "metadata": {},
   "outputs": [
    {
     "data": {
      "text/plain": [
       "65853"
      ]
     },
     "execution_count": 444,
     "metadata": {},
     "output_type": "execute_result"
    }
   ],
   "source": [
    "file=open(filename, 'a')\n",
    "file.write(''.join(output))"
   ]
  },
  {
   "cell_type": "markdown",
   "id": "4ad06ebf",
   "metadata": {},
   "source": [
    "see\n",
    "https://betterprogramming.pub/intro-to-rnn-character-level-text-generation-with-pytorch-db02d7e18d89\n",
    "https://pytorch.org/tutorials/beginner/torchtext_custom_dataset_tutorial.html"
   ]
  },
  {
   "cell_type": "code",
   "execution_count": 492,
   "id": "aff29e45",
   "metadata": {},
   "outputs": [],
   "source": [
    "eng = spacy.load(\"en_core_web_sm\")\n",
    "def engTokenize(text):\n",
    "    \"\"\"\n",
    "    Tokenize an English text and return a list of tokens\n",
    "    \"\"\"\n",
    "    return [token.text for token in eng.tokenizer(text)]\n",
    "\n",
    "def getTokens(data_iter):\n",
    "    \"\"\"\n",
    "    Function to yield tokens from an iterator\n",
    "    \"\"\"\n",
    "    for eng in data_iter:\n",
    "        if len(eng) != 0:\n",
    "            if re.match('[0-9 ]+', eng[0]) == None: # sort out the lines that only contains spaces and numbers\n",
    "                yield engTokenize(eng[0])\n",
    "def getTransform(vocab):\n",
    "    \"\"\"\n",
    "    Create transforms based on given vocabulary. The returned transform is applied to sequence\n",
    "    of tokens.\n",
    "    \"\"\"\n",
    "    text_tranform = T.Sequential(\n",
    "        ## converts the sentences to indices based on given vocabulary\n",
    "        T.VocabTransform(vocab=vocab),\n",
    "        ## Add <sos> at beginning of each sentence. 1 because the index for <sos> in vocabulary is\n",
    "        # 1 as seen in previous section\n",
    "        T.AddToken(1, begin=True),\n",
    "        ## Add <eos> at beginning of each sentence. 2 because the index for <eos> in vocabulary is\n",
    "        # 2 as seen in previous section\n",
    "        T.AddToken(2, begin=False)\n",
    "    )\n",
    "    return text_tranform"
   ]
  },
  {
   "cell_type": "code",
   "execution_count": 493,
   "id": "5c3ba8f6",
   "metadata": {},
   "outputs": [
    {
     "name": "stdout",
     "output_type": "stream",
     "text": [
      "['i', 'am', 'by', 'birth', 'a', 'genevese', ',', 'and', 'my', 'family', 'is', 'one', 'of', 'the', 'most', 'distinguished', 'of', 'that', 'republic']\n"
     ]
    }
   ],
   "source": [
    "FILE_PATH = 'train.txt'\n",
    "\n",
    "data_pipe = dp.iter.IterableWrapper([FILE_PATH])\n",
    "data_pipe = dp.iter.FileOpener(data_pipe, mode='r')\n",
    "data_pipe = data_pipe.parse_csv(skip_lines=0, delimiter='.', as_tuple=True)\n",
    "for sample in data_pipe:\n",
    "    print(engTokenize(sample[0]))\n",
    "    break"
   ]
  },
  {
   "cell_type": "code",
   "execution_count": 494,
   "id": "c9bb40ab",
   "metadata": {},
   "outputs": [
    {
     "name": "stdout",
     "output_type": "stream",
     "text": [
      "['<pad>', '<sos>', '<eos>', '<unk>', ',', 'the', 'i', 'and', 'of', 'my', 'to', '“', 'a', 'in', 'that', ';', 'was', 'me', 'you', 'had', 'with', 'but', 'which', 'this', 'for', 'not', 'on', 'from', 'it', 'as']\n"
     ]
    }
   ],
   "source": [
    "source_vocab = build_vocab_from_iterator(\n",
    "    getTokens(data_pipe),\n",
    "    min_freq=2,\n",
    "            specials= ['<pad>', '<sos>', '<eos>', '<unk>'],\n",
    "            special_first=True\n",
    ")\n",
    "'''\n",
    "<sos> for start of sentence\n",
    "\n",
    "<eos> for end of sentence\n",
    "\n",
    "<unk> for unknown words. An example of unknown word is the one skipped because of min_freq=2.\n",
    "\n",
    "<pad> is the padding token. \n",
    "'''\n",
    "source_vocab.set_default_index(source_vocab['<unk>']) # setting <unk> instead of that unknown word\n",
    "print(source_vocab.get_itos()[:30])"
   ]
  },
  {
   "cell_type": "code",
   "execution_count": 495,
   "id": "e27a3d8c",
   "metadata": {},
   "outputs": [
    {
     "name": "stdout",
     "output_type": "stream",
     "text": [
      "Some sentence=as the circumstances of his marriage illustrate his character, i cannot refrain from relating them\n",
      "Transformed sentence=[1, 29, 5, 350, 8, 33, 310, 3, 33, 3, 4, 6, 53, 25, 3, 27, 3, 98, 2]\n",
      "<sos> as the circumstances of his marriage <unk> his <unk> , i can not <unk> from <unk> them <eos> "
     ]
    }
   ],
   "source": [
    "temp_list = list(data_pipe)\n",
    "some_sentence = temp_list[1][0]\n",
    "print(\"Some sentence=\", end=\"\")\n",
    "print(some_sentence)\n",
    "transformed_sentence = getTransform(source_vocab)(engTokenize(some_sentence))\n",
    "print(\"Transformed sentence=\", end=\"\")\n",
    "print(transformed_sentence)\n",
    "index_to_string = source_vocab.get_itos()\n",
    "for index in transformed_sentence:\n",
    "    print(index_to_string[index], end=\" \")"
   ]
  },
  {
   "cell_type": "code",
   "execution_count": 496,
   "id": "d2f1ddab",
   "metadata": {},
   "outputs": [],
   "source": [
    "def applyTransform(sequence):\n",
    "    \"\"\"\n",
    "    Apply transforms to sequence of tokens and create input & target vectors\n",
    "    \"\"\"\n",
    "    tokenized = engTokenize(sequence[0])\n",
    "    transformed = getTransform(source_vocab)(tokenized)\n",
    "\n",
    "    return (transformed[:-1], # X\n",
    "            transformed[1:]) # target\n",
    "\n",
    "\n",
    "        \n",
    "data_pipe = data_pipe.map(applyTransform) ## Apply the function to each element in the iterator"
   ]
  },
  {
   "cell_type": "code",
   "execution_count": 497,
   "id": "83a481e9",
   "metadata": {},
   "outputs": [
    {
     "name": "stdout",
     "output_type": "stream",
     "text": [
      "\n",
      "\n",
      "Input sentence=Transformed input sentence=[1, 6, 69, 31, 551, 12, 3, 4, 7, 9, 452, 42, 44, 8, 5, 103, 3, 8, 14, 3]\n",
      "\n",
      "\n",
      "Output sentence=i am by birth a <unk> , and my family is one of the most <unk> of that <unk> <eos> Transformed output sentence=[6, 69, 31, 551, 12, 3, 4, 7, 9, 452, 42, 44, 8, 5, 103, 3, 8, 14, 3, 2]\n",
      "\n",
      "\n",
      "Input sentence=Transformed input sentence=[1, 29, 5, 350, 8, 33, 310, 3, 33, 3, 4, 6, 53, 25, 3, 27, 3, 98]\n",
      "\n",
      "\n",
      "Output sentence=as the circumstances of his marriage <unk> his <unk> , i can not <unk> from <unk> them <eos> Transformed output sentence=[29, 5, 350, 8, 33, 310, 3, 33, 3, 4, 6, 53, 25, 3, 27, 3, 98, 2]\n",
      "\n",
      "\n",
      "Input sentence=Transformed input sentence=[1, 3, 19, 163, 3, 3, 10, 814, 301, 4, 7, 28, 16, 711, 147, 63, 9, 46, 245, 33, 529]\n",
      "\n",
      "\n",
      "Output sentence=<unk> had taken <unk> <unk> to conceal himself , and it was ten months before my father discovered his abode <eos> Transformed output sentence=[3, 19, 163, 3, 3, 10, 814, 301, 4, 7, 28, 16, 711, 147, 63, 9, 46, 245, 33, 529, 2]\n",
      "\n",
      "\n",
      "Input sentence=Transformed input sentence=[1, 33, 353, 768, 56, 20, 5, 461, 1161, 4, 21, 61, 131, 20, 120, 14, 87, 202, 3, 16, 1072, 3, 7, 14, 172, 16, 59, 170, 3, 8, 266]\n",
      "\n",
      "\n",
      "Output sentence=his daughter attended him with the greatest tenderness , but she saw with despair that their little <unk> was rapidly <unk> and that there was no other <unk> of support <eos> Transformed output sentence=[33, 353, 768, 56, 20, 5, 461, 1161, 4, 21, 61, 131, 20, 120, 14, 87, 202, 3, 16, 1072, 3, 7, 14, 172, 16, 59, 170, 3, 8, 266, 2]\n"
     ]
    }
   ],
   "source": [
    "i = 0\n",
    "for sample in data_pipe:\n",
    "    print(\"\\n\\nInput sentence=\", end=\"\")\n",
    "    index_to_string = source_vocab.get_itos()\n",
    "    #for index in sample[0]:\n",
    "        #print(index_to_string[index], end=\" \")\n",
    "    print(\"Transformed input sentence=\", end=\"\")\n",
    "    print(sample[0])\n",
    "    \n",
    "    print(\"\\n\\nOutput sentence=\", end=\"\")\n",
    "    for index in sample[1]:\n",
    "        print(index_to_string[index], end=\" \")\n",
    "    print(\"Transformed output sentence=\", end=\"\")\n",
    "    print(sample[1])\n",
    "    if i > 2:\n",
    "        break\n",
    "    i += 1"
   ]
  },
  {
   "cell_type": "code",
   "execution_count": 498,
   "id": "f614e2bd",
   "metadata": {},
   "outputs": [
    {
     "name": "stdout",
     "output_type": "stream",
     "text": [
      "\n",
      "<sos> <unk> had taken <unk> <unk> to conceal himself , and it was ten months before my father discovered his abode \n",
      "<sos> his daughter attended him with the greatest tenderness , but she saw with despair that their little <unk> was rapidly <unk> and that there was no other <unk> of support \n",
      "<sos> when my father returned from <unk> , he found <unk> with me in the <unk> of our <unk> a child <unk> than <unk> <unk> — a creature who seemed to shed <unk> from her looks and whose form and <unk> were <unk> than the chamois of the hills \n",
      "<sos> if , instead of this remark , my father had taken the pains to explain to me that the <unk> of <unk> had been entirely <unk> and that a <unk> <unk> of science had been introduced which possessed much greater powers than the ancient , because the powers of the latter were <unk> , while those of the former were <unk> and practical \n",
      "<sos> “ devil , ” i exclaimed , “ do you dare approach me ? and do not you fear the fierce vengeance of my arm <unk> on your miserable head ? begone , <unk> <unk> ! or rather , stay , that i may <unk> you to <unk> ! and , oh ! that i could , with the <unk> of your miserable existence , <unk> those victims whom you have so <unk> murdered ! ” 77\n"
     ]
    }
   ],
   "source": [
    "i = 0\n",
    "for sample in data_pipe:\n",
    "    if i == 0:\n",
    "        size_t = len(sample[0])\n",
    "        i += 1\n",
    "    elif size_t < len(sample[0]):\n",
    "        size_t = len(sample[0])\n",
    "        print()\n",
    "        for index in sample[0]:\n",
    "            print(index_to_string[index], end=\" \")\n",
    "print(size_t)"
   ]
  },
  {
   "cell_type": "code",
   "execution_count": 484,
   "id": "2b6f34cb",
   "metadata": {},
   "outputs": [],
   "source": [
    " def applyPadding(pair_of_sequences):\n",
    "    \"\"\"\n",
    "    Convert sequences to tensors and apply padding\n",
    "    \"\"\"\n",
    "    return (T.PadTransform(77, 0)(T.ToTensor()(pair_of_sequences[0])), \n",
    "            T.PadTransform(77, 0)(T.ToTensor()(pair_of_sequences[1])))\n",
    "\n",
    "\n",
    "data_pipe = data_pipe.map(applyPadding)"
   ]
  },
  {
   "cell_type": "code",
   "execution_count": 260,
   "id": "b45e4724",
   "metadata": {},
   "outputs": [],
   "source": [
    "class ShakespeareDataSet():\n",
    "    def __init__(\n",
    "            self, split: 'val' or 'train', vocab_size: int=30_000\n",
    "            ):\n",
    "        super(ShakespeareDataSet, self).__init__()\n",
    "        self.split = split\n",
    "        self.vocab_size = vocab_size\n",
    "        self.eng = spacy.load(\"en_core_web_sm\") # Load the English model to tokenize English text\n",
    "        self.data_pipe = self.prepare_data()\n",
    "        self.dl = self.get_dataloader()\n",
    "    \n",
    "    def engTokenize(self, text):\n",
    "        \"\"\"\n",
    "        Tokenize an English text and return a list of tokens\n",
    "        \"\"\"\n",
    "        return [token.text for token in self.eng.tokenizer(text)]\n",
    "\n",
    "    def getTokens(self, data_iter):\n",
    "        \"\"\"\n",
    "        Function to yield tokens from an iterator\n",
    "        \"\"\"\n",
    "        for eng in data_iter:\n",
    "            if len(eng) != 0:\n",
    "                if re.match('[0-9 ]+', eng[0]) == None: # sort out the lines that only contains spaces and numbers\n",
    "                    yield self.engTokenize(eng[0])\n",
    "    \n",
    "    def getTransform(self, vocab):\n",
    "        \"\"\"\n",
    "        Create transforms based on given vocabulary. The returned transform is applied to sequence\n",
    "        of tokens.\n",
    "        \"\"\"\n",
    "        text_tranform = T.Sequential(\n",
    "            ## converts the sentences to indices based on given vocabulary\n",
    "            T.VocabTransform(vocab=vocab),\n",
    "            ## Add <sos> at beginning of each sentence. 1 because the index for <sos> in vocabulary is\n",
    "            # 1 as seen in previous section\n",
    "            T.AddToken(1, begin=True),\n",
    "            ## Add <eos> at beginning of each sentence. 2 because the index for <eos> in vocabulary is\n",
    "            # 2 as seen in previous section\n",
    "            T.AddToken(2, begin=False)\n",
    "        )\n",
    "        return text_tranform\n",
    "    \n",
    "    def applyTransform(self, sequence):\n",
    "        \"\"\"\n",
    "        Apply transforms to sequence of tokens and create input & target vectors\n",
    "        \"\"\"\n",
    "        tokenized = self.engTokenize(sequence[0])\n",
    "        transformed = getTransform(self.source_vocab)(tokenized)\n",
    "\n",
    "        return (transformed[:-1], # X\n",
    "                transformed[1:]) # target\n",
    "    \n",
    "    def applyPadding(self, pair_of_sequences):\n",
    "        \"\"\"\n",
    "        Convert sequences to tensors and apply padding\n",
    "        \"\"\"\n",
    "        return (T.PadTransform(77, 0)(T.ToTensor()(list(pair_of_sequences[0]))), \n",
    "            T.PadTransform(77, 0)(T.ToTensor()(list(pair_of_sequences[1]))))\n",
    "    \n",
    "    def prepare_data(self):\n",
    "        FILE_PATH = 'train.txt'\n",
    "        data_pipe = dp.iter.IterableWrapper([FILE_PATH])\n",
    "        data_pipe = dp.iter.FileOpener(data_pipe, mode='r')\n",
    "        data_pipe = data_pipe.parse_csv(skip_lines=0, delimiter='\\r', as_tuple=False)\n",
    "        self.source_vocab = build_vocab_from_iterator(\n",
    "            self.getTokens(data_pipe),\n",
    "            min_freq=2,\n",
    "            specials= ['<pad>', '<sos>', '<eos>', '<unk>'],\n",
    "            special_first=True\n",
    "        )\n",
    "        self.source_vocab.set_default_index(self.source_vocab['<unk>']) # setting <unk> instead of that unknown word\n",
    "        self.len_vocab = len(self.source_vocab)\n",
    "        data_pipe = data_pipe.map(self.applyTransform) ## Apply the function to each element in the iterator\n",
    "        data_pipe = data_pipe.map(self.applyPadding)\n",
    "        return data_pipe\n",
    "\n",
    "    def get_dataloader(self):\n",
    "        return DataLoader(dataset=self.data_pipe, batch_size=1)\n",
    "   "
   ]
  },
  {
   "cell_type": "code",
   "execution_count": 261,
   "id": "934487bd",
   "metadata": {},
   "outputs": [],
   "source": [
    "sd=ShakespeareDataSet('train')"
   ]
  },
  {
   "cell_type": "code",
   "execution_count": 262,
   "id": "bc0564a4",
   "metadata": {},
   "outputs": [
    {
     "name": "stdout",
     "output_type": "stream",
     "text": [
      "Labels batch shape: torch.Size([1, 107])\n",
      "Feature batch shape: torch.Size([1, 107])\n",
      "labels = tensor([[   9,   94,   33,  514,   12,    3,    4,    7,   11,  293,   40,   48,\n",
      "            8,    5,   99, 1020,    8,   16,    3,    6,   11,    3,   17,   47,\n",
      "           29,  188,  128,    3,    7,    3,    4,    7,   11,   62,   17,  455,\n",
      "          163,  704,    3,   21,    3,    7,    3,    6,   24,   13, 1800,   33,\n",
      "           46,   54,  230,   66,   29,   31,    3,    7, 1603,  388,   10,  704,\n",
      "            3,    6,   24,  136,   31, 1992,  215, 1722,  413,   33,    5,    3,\n",
      "            8,   31,  214,   15,   12, 1956,    8,  322,   17, 1747,   31, 1653,\n",
      "          536,    4,  266,   13,   26,  209,    5, 1430,    8,   68,   16,   24,\n",
      "          130,   12,    3,    7,    5,   62,    8,   12,  293,    6,    2]])\n",
      "features = tensor([[   1,    9,   94,   33,  514,   12,    3,    4,    7,   11,  293,   40,\n",
      "           48,    8,    5,   99, 1020,    8,   16,    3,    6,   11,    3,   17,\n",
      "           47,   29,  188,  128,    3,    7,    3,    4,    7,   11,   62,   17,\n",
      "          455,  163,  704,    3,   21,    3,    7,    3,    6,   24,   13, 1800,\n",
      "           33,   46,   54,  230,   66,   29,   31,    3,    7, 1603,  388,   10,\n",
      "          704,    3,    6,   24,  136,   31, 1992,  215, 1722,  413,   33,    5,\n",
      "            3,    8,   31,  214,   15,   12, 1956,    8,  322,   17, 1747,   31,\n",
      "         1653,  536,    4,  266,   13,   26,  209,    5, 1430,    8,   68,   16,\n",
      "           24,  130,   12,    3,    7,    5,   62,    8,   12,  293,    6]])\n",
      "n_sample= 241\n"
     ]
    }
   ],
   "source": [
    "first = next(iter(sd.dl))\n",
    "labels, features = first[1], first[0]\n",
    "print(f\"Labels batch shape: {labels.size()}\")\n",
    "print(f\"Feature batch shape: {features.size()}\")\n",
    "print(f\"{labels = }\\n{features = }\")\n",
    "n_sample = 0\n",
    "for row in iter(sd.dl):\n",
    "    n_sample += 1\n",
    "print(f\"{n_sample= }\")"
   ]
  },
  {
   "cell_type": "code",
   "execution_count": 427,
   "id": "afbad96b",
   "metadata": {},
   "outputs": [],
   "source": [
    "flat_l = labels.view(-1)\n",
    "l = flat_l.shape\n",
    "arr = torch.zeros(l[0], len(sd.source_vocab))"
   ]
  },
  {
   "cell_type": "code",
   "execution_count": 429,
   "id": "028ffd06",
   "metadata": {},
   "outputs": [
    {
     "data": {
      "text/plain": [
       "torch.Size([107, 1995])"
      ]
     },
     "execution_count": 429,
     "metadata": {},
     "output_type": "execute_result"
    }
   ],
   "source": [
    "arr.shape"
   ]
  },
  {
   "cell_type": "code",
   "execution_count": 430,
   "id": "2bc91adb",
   "metadata": {},
   "outputs": [],
   "source": [
    "arr[range(arr.shape[0]), flat_l]= 1"
   ]
  },
  {
   "cell_type": "code",
   "execution_count": 431,
   "id": "01002634",
   "metadata": {},
   "outputs": [
    {
     "data": {
      "text/plain": [
       "torch.Size([107, 1995])"
      ]
     },
     "execution_count": 431,
     "metadata": {},
     "output_type": "execute_result"
    }
   ],
   "source": [
    "arr.shape"
   ]
  },
  {
   "cell_type": "code",
   "execution_count": 435,
   "id": "759d5f12",
   "metadata": {},
   "outputs": [
    {
     "name": "stdout",
     "output_type": "stream",
     "text": [
      "tensor([0., 0., 1., 0., 0., 0., 0., 0., 0., 0., 0., 0., 0., 0., 0., 0., 0., 0.,\n",
      "        0., 0., 0., 0., 0., 0., 0., 0., 0., 0., 0., 0., 0., 0., 0., 0., 0., 0.,\n",
      "        0., 0., 0., 0., 0., 0., 0., 0., 0., 0., 0., 0., 0., 0., 0., 0., 0., 0.,\n",
      "        0., 0., 0., 0., 0., 0., 0., 0., 0., 0., 0., 0., 0., 0., 0., 0., 0., 0.,\n",
      "        0., 0., 0., 0., 0., 0., 0., 0., 0., 0., 0., 0., 0., 0., 0., 0., 0., 0.,\n",
      "        0., 0., 0., 0., 0., 0., 0., 0., 0., 0., 0., 0., 0., 0., 0., 0., 0., 0.,\n",
      "        0., 0., 0., 0., 0., 0., 0., 0., 0., 0., 0., 0., 0., 0., 0., 0., 0., 0.,\n",
      "        0., 0., 0., 0., 0., 0., 0., 0., 0., 0., 0., 0., 0., 0., 0., 0., 0., 0.,\n",
      "        0., 0., 0., 0., 0., 0., 0., 0., 0., 0., 0., 0., 0., 0., 0., 0., 0., 0.,\n",
      "        0., 0., 0., 0., 0., 0., 0., 0., 0., 0., 0., 0., 0., 0., 0., 0., 0., 0.,\n",
      "        0., 0., 0., 0., 0., 0., 0., 0., 0., 0., 0., 0., 0., 0., 0., 0., 0., 0.,\n",
      "        0., 0., 0., 0., 0., 0., 0., 0., 0., 0., 0., 0., 0., 0., 0., 0., 0., 0.,\n",
      "        0., 0., 0., 0., 0., 0., 0., 0., 0., 0., 0., 0., 0., 0., 0., 0., 0., 0.,\n",
      "        0., 0., 0., 0., 0., 0., 0., 0., 0., 0., 0., 0., 0., 0., 0., 0., 0., 0.,\n",
      "        0., 0., 0., 0., 0., 0., 0., 0., 0., 0., 0., 0., 0., 0., 0., 0., 0., 0.,\n",
      "        0., 0., 0., 0., 0., 0., 0., 0., 0., 0., 0., 0., 0., 0., 0., 0., 0., 0.,\n",
      "        0., 0., 0., 0., 0., 0., 0., 0., 0., 0., 0., 0., 0., 0., 0., 0., 0., 0.,\n",
      "        0., 0., 0., 0., 0., 0., 0., 0., 0., 0., 0., 0., 0., 0., 0., 0., 0., 0.,\n",
      "        0., 0., 0., 0., 0., 0., 0., 0., 0., 0., 0., 0., 0., 0., 0., 0., 0., 0.,\n",
      "        0., 0., 0., 0., 0., 0., 0., 0., 0., 0., 0., 0., 0., 0., 0., 0., 0., 0.,\n",
      "        0., 0., 0., 0., 0., 0., 0., 0., 0., 0., 0., 0., 0., 0., 0., 0., 0., 0.,\n",
      "        0., 0., 0., 0., 0., 0., 0., 0., 0., 0., 0., 0., 0., 0., 0., 0., 0., 0.,\n",
      "        0., 0., 0., 0., 0., 0., 0., 0., 0., 0., 0., 0., 0., 0., 0., 0., 0., 0.,\n",
      "        0., 0., 0., 0., 0., 0., 0., 0., 0., 0., 0., 0., 0., 0., 0., 0., 0., 0.,\n",
      "        0., 0., 0., 0., 0., 0., 0., 0., 0., 0., 0., 0., 0., 0., 0., 0., 0., 0.,\n",
      "        0., 0., 0., 0., 0., 0., 0., 0., 0., 0., 0., 0., 0., 0., 0., 0., 0., 0.,\n",
      "        0., 0., 0., 0., 0., 0., 0., 0., 0., 0., 0., 0., 0., 0., 0., 0., 0., 0.,\n",
      "        0., 0., 0., 0., 0., 0., 0., 0., 0., 0., 0., 0., 0., 0., 0., 0., 0., 0.,\n",
      "        0., 0., 0., 0., 0., 0., 0., 0., 0., 0., 0., 0., 0., 0., 0., 0., 0., 0.,\n",
      "        0., 0., 0., 0., 0., 0., 0., 0., 0., 0., 0., 0., 0., 0., 0., 0., 0., 0.,\n",
      "        0., 0., 0., 0., 0., 0., 0., 0., 0., 0., 0., 0., 0., 0., 0., 0., 0., 0.,\n",
      "        0., 0., 0., 0., 0., 0., 0., 0., 0., 0., 0., 0., 0., 0., 0., 0., 0., 0.,\n",
      "        0., 0., 0., 0., 0., 0., 0., 0., 0., 0., 0., 0., 0., 0., 0., 0., 0., 0.,\n",
      "        0., 0., 0., 0., 0., 0., 0., 0., 0., 0., 0., 0., 0., 0., 0., 0., 0., 0.,\n",
      "        0., 0., 0., 0., 0., 0., 0., 0., 0., 0., 0., 0., 0., 0., 0., 0., 0., 0.,\n",
      "        0., 0., 0., 0., 0., 0., 0., 0., 0., 0., 0., 0., 0., 0., 0., 0., 0., 0.,\n",
      "        0., 0., 0., 0., 0., 0., 0., 0., 0., 0., 0., 0., 0., 0., 0., 0., 0., 0.,\n",
      "        0., 0., 0., 0., 0., 0., 0., 0., 0., 0., 0., 0., 0., 0., 0., 0., 0., 0.,\n",
      "        0., 0., 0., 0., 0., 0., 0., 0., 0., 0., 0., 0., 0., 0., 0., 0., 0., 0.,\n",
      "        0., 0., 0., 0., 0., 0., 0., 0., 0., 0., 0., 0., 0., 0., 0., 0., 0., 0.,\n",
      "        0., 0., 0., 0., 0., 0., 0., 0., 0., 0., 0., 0., 0., 0., 0., 0., 0., 0.,\n",
      "        0., 0., 0., 0., 0., 0., 0., 0., 0., 0., 0., 0., 0., 0., 0., 0., 0., 0.,\n",
      "        0., 0., 0., 0., 0., 0., 0., 0., 0., 0., 0., 0., 0., 0., 0., 0., 0., 0.,\n",
      "        0., 0., 0., 0., 0., 0., 0., 0., 0., 0., 0., 0., 0., 0., 0., 0., 0., 0.,\n",
      "        0., 0., 0., 0., 0., 0., 0., 0., 0., 0., 0., 0., 0., 0., 0., 0., 0., 0.,\n",
      "        0., 0., 0., 0., 0., 0., 0., 0., 0., 0., 0., 0., 0., 0., 0., 0., 0., 0.,\n",
      "        0., 0., 0., 0., 0., 0., 0., 0., 0., 0., 0., 0., 0., 0., 0., 0., 0., 0.,\n",
      "        0., 0., 0., 0., 0., 0., 0., 0., 0., 0., 0., 0., 0., 0., 0., 0., 0., 0.,\n",
      "        0., 0., 0., 0., 0., 0., 0., 0., 0., 0., 0., 0., 0., 0., 0., 0., 0., 0.,\n",
      "        0., 0., 0., 0., 0., 0., 0., 0., 0., 0., 0., 0., 0., 0., 0., 0., 0., 0.,\n",
      "        0., 0., 0., 0., 0., 0., 0., 0., 0., 0., 0., 0., 0., 0., 0., 0., 0., 0.,\n",
      "        0., 0., 0., 0., 0., 0., 0., 0., 0., 0., 0., 0., 0., 0., 0., 0., 0., 0.,\n",
      "        0., 0., 0., 0., 0., 0., 0., 0., 0., 0., 0., 0., 0., 0., 0., 0., 0., 0.,\n",
      "        0., 0., 0., 0., 0., 0., 0., 0., 0., 0., 0., 0., 0., 0., 0., 0., 0., 0.,\n",
      "        0., 0., 0., 0., 0., 0., 0., 0., 0., 0., 0., 0., 0., 0., 0., 0., 0., 0.,\n",
      "        0., 0., 0., 0., 0., 0., 0., 0., 0., 0., 0., 0., 0., 0., 0., 0., 0., 0.,\n",
      "        0., 0., 0., 0., 0., 0., 0., 0., 0., 0., 0., 0., 0., 0., 0., 0., 0., 0.,\n",
      "        0., 0., 0., 0., 0., 0., 0., 0., 0., 0., 0., 0., 0., 0., 0., 0., 0., 0.,\n",
      "        0., 0., 0., 0., 0., 0., 0., 0., 0., 0., 0., 0., 0., 0., 0., 0., 0., 0.,\n",
      "        0., 0., 0., 0., 0., 0., 0., 0., 0., 0., 0., 0., 0., 0., 0., 0., 0., 0.,\n",
      "        0., 0., 0., 0., 0., 0., 0., 0., 0., 0., 0., 0., 0., 0., 0., 0., 0., 0.,\n",
      "        0., 0., 0., 0., 0., 0., 0., 0., 0., 0., 0., 0., 0., 0., 0., 0., 0., 0.,\n",
      "        0., 0., 0., 0., 0., 0., 0., 0., 0., 0., 0., 0., 0., 0., 0., 0., 0., 0.,\n",
      "        0., 0., 0., 0., 0., 0., 0., 0., 0., 0., 0., 0., 0., 0., 0., 0., 0., 0.,\n",
      "        0., 0., 0., 0., 0., 0., 0., 0., 0., 0., 0., 0., 0., 0., 0., 0., 0., 0.,\n",
      "        0., 0., 0., 0., 0., 0., 0., 0., 0., 0., 0., 0., 0., 0., 0., 0., 0., 0.,\n",
      "        0., 0., 0., 0., 0., 0., 0., 0., 0., 0., 0., 0., 0., 0., 0., 0., 0., 0.,\n",
      "        0., 0., 0., 0., 0., 0., 0., 0., 0., 0., 0., 0., 0., 0., 0., 0., 0., 0.,\n",
      "        0., 0., 0., 0., 0., 0., 0., 0., 0., 0., 0., 0., 0., 0., 0., 0., 0., 0.,\n",
      "        0., 0., 0., 0., 0., 0., 0., 0., 0., 0., 0., 0., 0., 0., 0., 0., 0., 0.,\n",
      "        0., 0., 0., 0., 0., 0., 0., 0., 0., 0., 0., 0., 0., 0., 0., 0., 0., 0.,\n",
      "        0., 0., 0., 0., 0., 0., 0., 0., 0., 0., 0., 0., 0., 0., 0., 0., 0., 0.,\n",
      "        0., 0., 0., 0., 0., 0., 0., 0., 0., 0., 0., 0., 0., 0., 0., 0., 0., 0.,\n",
      "        0., 0., 0., 0., 0., 0., 0., 0., 0., 0., 0., 0., 0., 0., 0., 0., 0., 0.,\n",
      "        0., 0., 0., 0., 0., 0., 0., 0., 0., 0., 0., 0., 0., 0., 0., 0., 0., 0.,\n",
      "        0., 0., 0., 0., 0., 0., 0., 0., 0., 0., 0., 0., 0., 0., 0., 0., 0., 0.,\n",
      "        0., 0., 0., 0., 0., 0., 0., 0., 0., 0., 0., 0., 0., 0., 0., 0., 0., 0.,\n",
      "        0., 0., 0., 0., 0., 0., 0., 0., 0., 0., 0., 0., 0., 0., 0., 0., 0., 0.,\n",
      "        0., 0., 0., 0., 0., 0., 0., 0., 0., 0., 0., 0., 0., 0., 0., 0., 0., 0.,\n",
      "        0., 0., 0., 0., 0., 0., 0., 0., 0., 0., 0., 0., 0., 0., 0., 0., 0., 0.,\n",
      "        0., 0., 0., 0., 0., 0., 0., 0., 0., 0., 0., 0., 0., 0., 0., 0., 0., 0.,\n",
      "        0., 0., 0., 0., 0., 0., 0., 0., 0., 0., 0., 0., 0., 0., 0., 0., 0., 0.,\n",
      "        0., 0., 0., 0., 0., 0., 0., 0., 0., 0., 0., 0., 0., 0., 0., 0., 0., 0.,\n",
      "        0., 0., 0., 0., 0., 0., 0., 0., 0., 0., 0., 0., 0., 0., 0., 0., 0., 0.,\n",
      "        0., 0., 0., 0., 0., 0., 0., 0., 0., 0., 0., 0., 0., 0., 0., 0., 0., 0.,\n",
      "        0., 0., 0., 0., 0., 0., 0., 0., 0., 0., 0., 0., 0., 0., 0., 0., 0., 0.,\n",
      "        0., 0., 0., 0., 0., 0., 0., 0., 0., 0., 0., 0., 0., 0., 0., 0., 0., 0.,\n",
      "        0., 0., 0., 0., 0., 0., 0., 0., 0., 0., 0., 0., 0., 0., 0., 0., 0., 0.,\n",
      "        0., 0., 0., 0., 0., 0., 0., 0., 0., 0., 0., 0., 0., 0., 0., 0., 0., 0.,\n",
      "        0., 0., 0., 0., 0., 0., 0., 0., 0., 0., 0., 0., 0., 0., 0., 0., 0., 0.,\n",
      "        0., 0., 0., 0., 0., 0., 0., 0., 0., 0., 0., 0., 0., 0., 0., 0., 0., 0.,\n",
      "        0., 0., 0., 0., 0., 0., 0., 0., 0., 0., 0., 0., 0., 0., 0., 0., 0., 0.,\n",
      "        0., 0., 0., 0., 0., 0., 0., 0., 0., 0., 0., 0., 0., 0., 0., 0., 0., 0.,\n",
      "        0., 0., 0., 0., 0., 0., 0., 0., 0., 0., 0., 0., 0., 0., 0., 0., 0., 0.,\n",
      "        0., 0., 0., 0., 0., 0., 0., 0., 0., 0., 0., 0., 0., 0., 0., 0., 0., 0.,\n",
      "        0., 0., 0., 0., 0., 0., 0., 0., 0., 0., 0., 0., 0., 0., 0., 0., 0., 0.,\n",
      "        0., 0., 0., 0., 0., 0., 0., 0., 0., 0., 0., 0., 0., 0., 0., 0., 0., 0.,\n",
      "        0., 0., 0., 0., 0., 0., 0., 0., 0., 0., 0., 0., 0., 0., 0., 0., 0., 0.,\n",
      "        0., 0., 0., 0., 0., 0., 0., 0., 0., 0., 0., 0., 0., 0., 0., 0., 0., 0.,\n",
      "        0., 0., 0., 0., 0., 0., 0., 0., 0., 0., 0., 0., 0., 0., 0., 0., 0., 0.,\n",
      "        0., 0., 0., 0., 0., 0., 0., 0., 0., 0., 0., 0., 0., 0., 0., 0., 0., 0.,\n",
      "        0., 0., 0., 0., 0., 0., 0., 0., 0., 0., 0., 0., 0., 0., 0., 0., 0., 0.,\n",
      "        0., 0., 0., 0., 0., 0., 0., 0., 0., 0., 0., 0., 0., 0., 0., 0., 0., 0.,\n",
      "        0., 0., 0., 0., 0., 0., 0., 0., 0., 0., 0., 0., 0., 0., 0., 0., 0., 0.,\n",
      "        0., 0., 0., 0., 0., 0., 0., 0., 0., 0., 0., 0., 0., 0., 0., 0., 0., 0.,\n",
      "        0., 0., 0., 0., 0., 0., 0., 0., 0., 0., 0., 0., 0., 0., 0., 0., 0., 0.,\n",
      "        0., 0., 0., 0., 0., 0., 0., 0., 0., 0., 0., 0., 0., 0., 0., 0., 0., 0.,\n",
      "        0., 0., 0., 0., 0., 0., 0., 0., 0., 0., 0., 0., 0., 0., 0., 0., 0., 0.,\n",
      "        0., 0., 0., 0., 0., 0., 0., 0., 0., 0., 0., 0., 0., 0., 0., 0., 0., 0.,\n",
      "        0., 0., 0., 0., 0., 0., 0., 0., 0., 0., 0., 0., 0., 0., 0., 0., 0., 0.,\n",
      "        0., 0., 0., 0., 0., 0., 0., 0., 0., 0., 0., 0., 0., 0., 0.])\n"
     ]
    }
   ],
   "source": [
    "print(arr[-1])"
   ]
  },
  {
   "cell_type": "code",
   "execution_count": 415,
   "id": "c59278ee",
   "metadata": {},
   "outputs": [
    {
     "data": {
      "text/plain": [
       "tensor([   9,   94,   33,  514,   12,    3,    4,    7,   11,  293,   40,   48,\n",
       "           8,    5,   99, 1020,    8,   16,    3,    6,   11,    3,   17,   47,\n",
       "          29,  188,  128,    3,    7,    3,    4,    7,   11,   62,   17,  455,\n",
       "         163,  704,    3,   21,    3,    7,    3,    6,   24,   13, 1800,   33,\n",
       "          46,   54,  230,   66,   29,   31,    3,    7, 1603,  388,   10,  704,\n",
       "           3,    6,   24,  136,   31, 1992,  215, 1722,  413,   33,    5,    3,\n",
       "           8,   31,  214,   15,   12, 1956,    8,  322,   17, 1747,   31, 1653,\n",
       "         536,    4,  266,   13,   26,  209,    5, 1430,    8,   68,   16,   24,\n",
       "         130,   12,    3,    7,    5,   62,    8,   12,  293,    6,    2])"
      ]
     },
     "execution_count": 415,
     "metadata": {},
     "output_type": "execute_result"
    }
   ],
   "source": [
    "flat_l[0]"
   ]
  },
  {
   "cell_type": "markdown",
   "id": "0aabf093",
   "metadata": {},
   "source": [
    "# Visualize"
   ]
  },
  {
   "cell_type": "code",
   "execution_count": 5,
   "id": "63a90d7a",
   "metadata": {},
   "outputs": [],
   "source": [
    "import pandas as pd\n",
    "import seaborn as sns"
   ]
  },
  {
   "cell_type": "code",
   "execution_count": 28,
   "id": "965e4662",
   "metadata": {},
   "outputs": [
    {
     "data": {
      "text/html": [
       "<div>\n",
       "<style scoped>\n",
       "    .dataframe tbody tr th:only-of-type {\n",
       "        vertical-align: middle;\n",
       "    }\n",
       "\n",
       "    .dataframe tbody tr th {\n",
       "        vertical-align: top;\n",
       "    }\n",
       "\n",
       "    .dataframe thead th {\n",
       "        text-align: right;\n",
       "    }\n",
       "</style>\n",
       "<table border=\"1\" class=\"dataframe\">\n",
       "  <thead>\n",
       "    <tr style=\"text-align: right;\">\n",
       "      <th></th>\n",
       "      <th>Epoch</th>\n",
       "      <th>Train_Loss</th>\n",
       "      <th>Val_Loss</th>\n",
       "    </tr>\n",
       "  </thead>\n",
       "  <tbody>\n",
       "    <tr>\n",
       "      <th>0</th>\n",
       "      <td>1</td>\n",
       "      <td>2.220428</td>\n",
       "      <td>2.701332</td>\n",
       "    </tr>\n",
       "    <tr>\n",
       "      <th>1</th>\n",
       "      <td>2</td>\n",
       "      <td>1.778190</td>\n",
       "      <td>2.094887</td>\n",
       "    </tr>\n",
       "    <tr>\n",
       "      <th>2</th>\n",
       "      <td>3</td>\n",
       "      <td>1.686214</td>\n",
       "      <td>1.983612</td>\n",
       "    </tr>\n",
       "    <tr>\n",
       "      <th>3</th>\n",
       "      <td>4</td>\n",
       "      <td>1.639868</td>\n",
       "      <td>1.948861</td>\n",
       "    </tr>\n",
       "    <tr>\n",
       "      <th>4</th>\n",
       "      <td>5</td>\n",
       "      <td>1.606107</td>\n",
       "      <td>1.928289</td>\n",
       "    </tr>\n",
       "  </tbody>\n",
       "</table>\n",
       "</div>"
      ],
      "text/plain": [
       "   Epoch   Train_Loss   Val_Loss\n",
       "0      1     2.220428   2.701332\n",
       "1      2     1.778190   2.094887\n",
       "2      3     1.686214   1.983612\n",
       "3      4     1.639868   1.948861\n",
       "4      5     1.606107   1.928289"
      ]
     },
     "execution_count": 28,
     "metadata": {},
     "output_type": "execute_result"
    }
   ],
   "source": [
    "rnn = pd.read_csv('results_custom_rnn.csv')\n",
    "lstm = pd.read_csv('results_lstm_full.csv')\n",
    "lstm.head()"
   ]
  },
  {
   "cell_type": "code",
   "execution_count": 29,
   "id": "876dce88",
   "metadata": {},
   "outputs": [
    {
     "data": {
      "text/plain": [
       "Index(['Epoch', ' Train_Loss', ' Val_Loss'], dtype='object')"
      ]
     },
     "execution_count": 29,
     "metadata": {},
     "output_type": "execute_result"
    }
   ],
   "source": [
    "rnn.columns"
   ]
  },
  {
   "cell_type": "code",
   "execution_count": 30,
   "id": "da0533e4",
   "metadata": {},
   "outputs": [
    {
     "data": {
      "text/plain": [
       "<Axes: title={'center': 'Train Loss'}, xlabel='Epoch', ylabel=' Train_Loss'>"
      ]
     },
     "execution_count": 30,
     "metadata": {},
     "output_type": "execute_result"
    },
    {
     "data": {
      "image/png": "[encoded data removed]",
      "text/plain": [
       "<Figure size 640x480 with 1 Axes>"
      ]
     },
     "metadata": {},
     "output_type": "display_data"
    }
   ],
   "source": [
    "sns.lineplot(data=rnn, x='Epoch', y=' Train_Loss', label='rnn from scratch').set(title='Train Loss')\n",
    "sns.lineplot(data=lstm.iloc[:15, :], x='Epoch', y=' Train_Loss', label='lstm')"
   ]
  },
  {
   "cell_type": "code",
   "execution_count": 31,
   "id": "0644d884",
   "metadata": {},
   "outputs": [
    {
     "data": {
      "text/plain": [
       "<Axes: title={'center': 'Val Loss'}, xlabel='Epoch', ylabel=' Val_Loss'>"
      ]
     },
     "execution_count": 31,
     "metadata": {},
     "output_type": "execute_result"
    },
    {
     "data": {
      "image/png": "[encoded data removed]",
      "text/plain": [
       "<Figure size 640x480 with 1 Axes>"
      ]
     },
     "metadata": {},
     "output_type": "display_data"
    }
   ],
   "source": [
    "sns.lineplot(data=rnn, x='Epoch', y=' Val_Loss', label='rnn from scratch').set(title='Val Loss')\n",
    "sns.lineplot(data=lstm.iloc[:15, :], x='Epoch', y=' Val_Loss', label='lstm')"
   ]
  }
 ],
 "metadata": {
  "kernelspec": {
   "display_name": "Python 3 (ipykernel)",
   "language": "python",
   "name": "python3"
  },
  "language_info": {
   "codemirror_mode": {
    "name": "ipython",
    "version": 3
   },
   "file_extension": ".py",
   "mimetype": "text/x-python",
   "name": "python",
   "nbconvert_exporter": "python",
   "pygments_lexer": "ipython3",
   "version": "3.11.4"
  }
 },
 "nbformat": 4,
 "nbformat_minor": 5
}
